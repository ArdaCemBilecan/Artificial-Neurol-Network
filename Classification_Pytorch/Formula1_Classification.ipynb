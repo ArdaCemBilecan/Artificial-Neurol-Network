{
 "cells": [
  {
   "cell_type": "code",
   "execution_count": 2,
   "id": "2efeb6f1",
   "metadata": {},
   "outputs": [],
   "source": [
    "import torch\n",
    "import torch.nn as nn\n",
    "import torch.optim as optim\n",
    "import numpy as np\n",
    "from glob import glob\n",
    "from sklearn.preprocessing import LabelEncoder\n",
    "from sklearn.model_selection import train_test_split\n",
    "import cv2\n",
    "import matplotlib.pyplot as plt"
   ]
  },
  {
   "cell_type": "code",
   "execution_count": 3,
   "id": "a18183ab",
   "metadata": {},
   "outputs": [],
   "source": [
    "np.random.seed(1) "
   ]
  },
  {
   "cell_type": "markdown",
   "id": "421aef7c",
   "metadata": {},
   "source": [
    "# Prepare to Data"
   ]
  },
  {
   "cell_type": "code",
   "execution_count": 4,
   "id": "d09c926e",
   "metadata": {},
   "outputs": [
    {
     "name": "stdout",
     "output_type": "stream",
     "text": [
      "['f1_classification\\\\Ferrari', 'f1_classification\\\\McLaren', 'f1_classification\\\\Mercedes', 'f1_classification\\\\RedBull']\n"
     ]
    }
   ],
   "source": [
    "path = 'f1_classification/*'\n",
    "datas_paths = glob(path)\n",
    "print(datas_paths)\n",
    "X = []\n",
    "labels = []"
   ]
  },
  {
   "cell_type": "code",
   "execution_count": 5,
   "id": "131cbe56",
   "metadata": {},
   "outputs": [],
   "source": [
    "def color_imread(path):\n",
    "    img = cv2.imread(path)\n",
    "    img = cv2.cvtColor(img , cv2.COLOR_BGR2RGB)\n",
    "    img = cv2.resize(img,(28,28),cv2.INTER_AREA)\n",
    "    img = (img/127.5) - 1\n",
    "    img = img.astype(np.float32)\n",
    "    return img"
   ]
  },
  {
   "cell_type": "code",
   "execution_count": 6,
   "id": "1d6a4f0a",
   "metadata": {},
   "outputs": [],
   "source": [
    "for label_path in datas_paths:\n",
    "    label = label_path.split('\\\\')[1]\n",
    "    image_path = glob(label_path+'/*')\n",
    "    for path in image_path:\n",
    "        img = color_imread(path)\n",
    "        X.append(img)\n",
    "        labels.append(label)                "
   ]
  },
  {
   "cell_type": "code",
   "execution_count": 7,
   "id": "d249e5fd",
   "metadata": {},
   "outputs": [
    {
     "data": {
      "text/plain": [
       "(280, 280)"
      ]
     },
     "execution_count": 7,
     "metadata": {},
     "output_type": "execute_result"
    }
   ],
   "source": [
    "len(labels) , len(X)"
   ]
  },
  {
   "cell_type": "markdown",
   "id": "2fe82039",
   "metadata": {},
   "source": [
    "Converting labels to LabelEncoder"
   ]
  },
  {
   "cell_type": "code",
   "execution_count": 8,
   "id": "3766f6c4",
   "metadata": {},
   "outputs": [
    {
     "name": "stdout",
     "output_type": "stream",
     "text": [
      "0 1 2 3\n"
     ]
    }
   ],
   "source": [
    "le = LabelEncoder()\n",
    "labels = le.fit_transform(labels)\n",
    "print(labels[1],labels[79],labels[179],labels[279])"
   ]
  },
  {
   "cell_type": "code",
   "execution_count": 9,
   "id": "fa17f400",
   "metadata": {},
   "outputs": [
    {
     "data": {
      "image/png": "[encoded data removed]",
      "text/plain": [
       "<Figure size 432x288 with 1 Axes>"
      ]
     },
     "metadata": {
      "needs_background": "light"
     },
     "output_type": "display_data"
    }
   ],
   "source": [
    "img = (X[0]+1)*127.5\n",
    "img = np.uint8(img)\n",
    "plt.imshow(img)\n",
    "plt.xlabel(labels[0]) # 0 means 'Ferrari'\n",
    "plt.show()"
   ]
  },
  {
   "cell_type": "code",
   "execution_count": 10,
   "id": "dc5d8f1c",
   "metadata": {},
   "outputs": [
    {
     "data": {
      "image/png": "[encoded data removed]",
      "text/plain": [
       "<Figure size 432x288 with 1 Axes>"
      ]
     },
     "metadata": {
      "needs_background": "light"
     },
     "output_type": "display_data"
    }
   ],
   "source": [
    "img = (X[79]+1)*127.5\n",
    "img = np.uint8(img)\n",
    "plt.imshow(img)\n",
    "plt.xlabel(labels[79]) # 1 means 'McLaren'\n",
    "plt.show()"
   ]
  },
  {
   "cell_type": "code",
   "execution_count": 11,
   "id": "a8cbd959",
   "metadata": {},
   "outputs": [
    {
     "data": {
      "image/png": "[encoded data removed]",
      "text/plain": [
       "<Figure size 432x288 with 1 Axes>"
      ]
     },
     "metadata": {
      "needs_background": "light"
     },
     "output_type": "display_data"
    }
   ],
   "source": [
    "img = (X[170]+1)*127.5\n",
    "img = np.uint8(img)\n",
    "plt.imshow(img)\n",
    "plt.xlabel(labels[170]) # 2 means 'Mercedes'\n",
    "plt.show()"
   ]
  },
  {
   "cell_type": "code",
   "execution_count": 12,
   "id": "118782a6",
   "metadata": {},
   "outputs": [
    {
     "data": {
      "image/png": "[encoded data removed]",
      "text/plain": [
       "<Figure size 432x288 with 1 Axes>"
      ]
     },
     "metadata": {
      "needs_background": "light"
     },
     "output_type": "display_data"
    }
   ],
   "source": [
    "img = (X[279]+1)*127.5\n",
    "img = np.uint8(img)\n",
    "plt.imshow(img)\n",
    "plt.xlabel(labels[179]) # 3 means 'RedBull'\n",
    "plt.show()"
   ]
  },
  {
   "cell_type": "code",
   "execution_count": 13,
   "id": "57f5e7e6",
   "metadata": {},
   "outputs": [],
   "source": [
    "x_train,x_test,y_train,y_test = train_test_split(X,labels,test_size=0.25,random_state=42)"
   ]
  },
  {
   "cell_type": "code",
   "execution_count": 14,
   "id": "99422af6",
   "metadata": {},
   "outputs": [
    {
     "name": "stderr",
     "output_type": "stream",
     "text": [
      "C:\\Users\\ardac\\AppData\\Local\\Temp\\ipykernel_15588\\2699387513.py:1: UserWarning: Creating a tensor from a list of numpy.ndarrays is extremely slow. Please consider converting the list to a single numpy.ndarray with numpy.array() before converting to a tensor. (Triggered internally at  C:\\cb\\pytorch_1000000000000\\work\\torch\\csrc\\utils\\tensor_new.cpp:210.)\n",
      "  x_train = torch.tensor(x_train)\n"
     ]
    },
    {
     "data": {
      "text/plain": [
       "torch.Size([210, 28, 28, 3])"
      ]
     },
     "execution_count": 14,
     "metadata": {},
     "output_type": "execute_result"
    }
   ],
   "source": [
    "x_train = torch.tensor(x_train)\n",
    "x_train.shape"
   ]
  },
  {
   "cell_type": "code",
   "execution_count": 15,
   "id": "362f2724",
   "metadata": {},
   "outputs": [
    {
     "data": {
      "text/plain": [
       "torch.Size([70, 28, 28, 3])"
      ]
     },
     "execution_count": 15,
     "metadata": {},
     "output_type": "execute_result"
    }
   ],
   "source": [
    "x_test = torch.tensor(x_test)\n",
    "x_test.shape"
   ]
  },
  {
   "cell_type": "code",
   "execution_count": 16,
   "id": "8bb8fdc3",
   "metadata": {},
   "outputs": [
    {
     "data": {
      "text/plain": [
       "(torch.Size([210, 3, 28, 28]), torch.Size([70, 3, 28, 28]))"
      ]
     },
     "execution_count": 16,
     "metadata": {},
     "output_type": "execute_result"
    }
   ],
   "source": [
    "x_train = np.reshape(x_train,(-1,3,28,28))\n",
    "x_test = np.reshape(x_test,(-1,3,28,28))\n",
    "x_train.shape , x_test.shape"
   ]
  },
  {
   "cell_type": "markdown",
   "id": "42b24b5b",
   "metadata": {},
   "source": [
    "# Build Model"
   ]
  },
  {
   "cell_type": "code",
   "execution_count": 17,
   "id": "8052460e",
   "metadata": {},
   "outputs": [],
   "source": [
    "class Net(nn.Module):\n",
    "    def __init__(self):\n",
    "        super(Net,self).__init__()\n",
    "        \n",
    "        self.conv1 = nn.Conv2d(in_channels=3,out_channels=4,kernel_size=(5,5))\n",
    "        self.conv2 = nn.Conv2d(in_channels=4,out_channels=8,kernel_size=(3,3))\n",
    "        self.conv3 = nn.Conv2d(in_channels=8,out_channels=16,kernel_size=(2,2))\n",
    "        self.conv4 = nn.Conv2d(in_channels=16,out_channels=32,kernel_size=(2,2))\n",
    "        # Evrişim katmanının boyutları   = (W - K + 2P)\n",
    "        #                                  ------------ + 1\n",
    "        #                                       S\n",
    "        # burada, \n",
    "        #       W = Önceki katmanın Yükseklik/Genişlik = 28\n",
    "        #       K = Filtre Boyutu = 3\n",
    "        #       P = Piksel ekleme (Padding) = 0\n",
    "        #       S = Adım Aralığı (Stride) = 1(default)\n",
    "        #           Eğer piksel ekleme = 0\n",
    "        #           Çıkış şekli (shape) = ((28 - 3 + 2*0)/1)+1 = 26 \n",
    "        \n",
    "        self.max = nn.MaxPool2d(kernel_size=(2,2))\n",
    "        self.func = nn.ReLU()\n",
    "        self.fully1 = nn.Linear(in_features=32,out_features=50)\n",
    "        self.fully2 = nn.Linear(in_features=50,out_features=50)\n",
    "        self.fully3 = nn.Linear(in_features=50,out_features=100)\n",
    "        self.fully4 = nn.Linear(in_features=100,out_features=4)\n",
    "        \n",
    "    def forward(self,x): # x is our data\n",
    "        x = self.conv1(x)\n",
    "        x = self.func(x)\n",
    "        x = self.max(x)\n",
    "        x = self.conv2(x)\n",
    "        x = self.func(x)\n",
    "        x = self.max(x)\n",
    "        x = self.conv3(x)\n",
    "        x = self.func(x)\n",
    "        x = self.max(x)\n",
    "        x = self.conv4(x)\n",
    "        x = self.func(x)\n",
    "        \n",
    "        x =x.view(x.shape[1],-1)\n",
    "\n",
    "        x = self.fully1(x)\n",
    "        x = self.func(x)\n",
    "        x = self.fully2(x)\n",
    "        x = self.func(x) \n",
    "        x = self.fully3(x)\n",
    "        x = self.func(x)\n",
    "        x = self.fully4(x)\n",
    "\n",
    "        return x       \n",
    "        "
   ]
  },
  {
   "cell_type": "markdown",
   "id": "f71f0421",
   "metadata": {},
   "source": [
    "# Model Training"
   ]
  },
  {
   "cell_type": "code",
   "execution_count": 18,
   "id": "ca1f405d",
   "metadata": {
    "scrolled": false
   },
   "outputs": [
    {
     "name": "stdout",
     "output_type": "stream",
     "text": [
      "0 1.4390302896499634\n",
      "1 1.427236795425415\n",
      "2 1.4172147512435913\n",
      "3 1.4082847833633423\n",
      "4 1.3991588354110718\n",
      "5 1.3854705095291138\n",
      "6 1.3577609062194824\n",
      "7 1.3088297843933105\n",
      "8 1.2421225309371948\n",
      "9 1.1665083169937134\n",
      "10 1.1007075309753418\n",
      "11 1.0424151420593262\n",
      "12 0.9955140948295593\n",
      "13 0.9602124094963074\n",
      "14 0.932326078414917\n",
      "15 0.9106076955795288\n",
      "16 0.8937235474586487\n",
      "17 0.8790504336357117\n",
      "18 0.8645519018173218\n",
      "19 0.8493396639823914\n",
      "20 0.8349331021308899\n",
      "21 0.8216374516487122\n",
      "22 0.8087289333343506\n",
      "23 0.794514000415802\n",
      "24 0.7797613739967346\n",
      "25 0.762370765209198\n",
      "26 0.7475982308387756\n",
      "27 0.7329451441764832\n",
      "28 0.7180379033088684\n",
      "29 0.7027878761291504\n",
      "30 0.6872729063034058\n",
      "31 0.6717046499252319\n",
      "32 0.6540654897689819\n",
      "33 0.6342208385467529\n",
      "34 0.6163862347602844\n",
      "35 0.5976475477218628\n",
      "36 0.58045893907547\n",
      "37 0.5620426535606384\n",
      "38 0.5453808307647705\n",
      "39 0.5273253321647644\n",
      "40 0.5090771913528442\n",
      "41 0.49139952659606934\n",
      "42 0.47477468848228455\n",
      "43 0.45989376306533813\n",
      "44 0.44342097640037537\n",
      "45 0.4287560284137726\n",
      "46 0.4155101776123047\n",
      "47 0.40156444907188416\n",
      "48 0.388784795999527\n",
      "49 0.37346822023391724\n",
      "50 0.3584142327308655\n",
      "51 0.34429141879081726\n",
      "52 0.3305821418762207\n",
      "53 0.31625109910964966\n",
      "54 0.30274316668510437\n",
      "55 0.28851887583732605\n",
      "56 0.2731872498989105\n",
      "57 0.26133859157562256\n",
      "58 0.25251615047454834\n",
      "59 0.24131853878498077\n",
      "60 0.2301989644765854\n",
      "61 0.21994706988334656\n",
      "62 0.21193210780620575\n",
      "63 0.20440708100795746\n",
      "64 0.19868768751621246\n",
      "65 0.19213920831680298\n",
      "66 0.18670958280563354\n",
      "67 0.18051184713840485\n",
      "68 0.17327985167503357\n",
      "69 0.1669216901063919\n",
      "70 0.16030077636241913\n",
      "71 0.1559656411409378\n",
      "72 0.1520778387784958\n",
      "73 0.14807070791721344\n",
      "74 0.14713755249977112\n",
      "75 0.1448332667350769\n",
      "76 0.14125372469425201\n",
      "77 0.1395445168018341\n",
      "78 0.1370663344860077\n",
      "79 0.1355830579996109\n",
      "80 0.13567465543746948\n",
      "81 0.13476505875587463\n",
      "82 0.1308746188879013\n",
      "83 0.1312069445848465\n",
      "84 0.1294308304786682\n",
      "85 0.12655502557754517\n",
      "86 0.1255691647529602\n",
      "87 0.12433099001646042\n",
      "88 0.1226983591914177\n",
      "89 0.1213250607252121\n",
      "90 0.12040643393993378\n",
      "91 0.12194562703371048\n",
      "92 0.12306450307369232\n",
      "93 0.11991296708583832\n",
      "94 0.1185493916273117\n",
      "95 0.11735018342733383\n",
      "96 0.11699604988098145\n",
      "97 0.11716040968894958\n",
      "98 0.1154216006398201\n",
      "99 0.11336871236562729\n",
      "100 0.10997189581394196\n",
      "101 0.1100395992398262\n",
      "102 0.10732875764369965\n",
      "103 0.10621581971645355\n",
      "104 0.10677716135978699\n",
      "105 0.10415326803922653\n",
      "106 0.10542117804288864\n",
      "107 0.10417743772268295\n",
      "108 0.10264591872692108\n",
      "109 0.10319690406322479\n",
      "110 0.10281556099653244\n",
      "111 0.1019008681178093\n",
      "112 0.09888841211795807\n",
      "113 0.09734844416379929\n",
      "114 0.0945439338684082\n",
      "115 0.09394573420286179\n",
      "116 0.09568726271390915\n",
      "117 0.09382364153862\n",
      "118 0.09500259160995483\n",
      "119 0.09253039211034775\n",
      "120 0.0914028063416481\n",
      "121 0.09071324020624161\n",
      "122 0.09203775972127914\n",
      "123 0.0910358801484108\n",
      "124 0.090115025639534\n",
      "125 0.08923225104808807\n",
      "126 0.08920684456825256\n",
      "127 0.08605063706636429\n",
      "128 0.08548158407211304\n",
      "129 0.08260194957256317\n",
      "130 0.08148255944252014\n",
      "131 0.07599413394927979\n",
      "132 0.07424992322921753\n",
      "133 0.07041408866643906\n",
      "134 0.0670747384428978\n",
      "135 0.06613466888666153\n",
      "136 0.06332984566688538\n",
      "137 0.05622964724898338\n",
      "138 0.051027726382017136\n",
      "139 0.0461820550262928\n",
      "140 0.04283066466450691\n",
      "141 0.03967208042740822\n",
      "142 0.0360199473798275\n",
      "143 0.034703921526670456\n",
      "144 0.03260369226336479\n",
      "145 0.029680870473384857\n",
      "146 0.02604716829955578\n",
      "147 0.026066448539495468\n",
      "148 0.02346496842801571\n",
      "149 0.023520978167653084\n"
     ]
    }
   ],
   "source": [
    "model = Net()\n",
    "optimizer = torch.optim.Adam(model.parameters(),lr=0.0001)\n",
    "error = torch.nn.CrossEntropyLoss()\n",
    "epochs = 150\n",
    "\n",
    "for epoch in range(epochs):\n",
    "    \n",
    "    for _,(image,label) in enumerate(zip(x_train,y_train)):\n",
    "        optimizer.zero_grad()\n",
    "        x = torch.linspace(3, 256, 256).float().unsqueeze(-1)\n",
    "        out = model(image)\n",
    "        out=torch.squeeze(out)\n",
    "        label = torch.tensor(label)\n",
    "        loss = error(out,label)\n",
    "        loss.backward()\n",
    "        \n",
    "        optimizer.step()\n",
    "        \n",
    "    print(epoch , loss.item())\n",
    "\n",
    "\n",
    "\n"
   ]
  },
  {
   "cell_type": "markdown",
   "id": "0e0894dd",
   "metadata": {},
   "source": [
    "# Test Model"
   ]
  },
  {
   "cell_type": "code",
   "execution_count": 27,
   "id": "2a0a94de",
   "metadata": {},
   "outputs": [
    {
     "data": {
      "text/plain": [
       "torch.Tensor"
      ]
     },
     "execution_count": 27,
     "metadata": {},
     "output_type": "execute_result"
    }
   ],
   "source": [
    "type(x_test)"
   ]
  },
  {
   "cell_type": "code",
   "execution_count": 50,
   "id": "d4da5dce",
   "metadata": {},
   "outputs": [],
   "source": [
    "def accuracy(x_test,y_test,model):\n",
    "    num_correct = 0\n",
    "    model.eval()\n",
    "    \n",
    "    with torch.no_grad():\n",
    "        for _,(image,label) in enumerate (zip(x_test,y_test)):\n",
    "            predict = model(image)\n",
    "            predict = predict.numpy()\n",
    "            pred = predict.argmax()\n",
    "            if pred == label:\n",
    "                num_correct+=1\n",
    "        print('Accuracy: ',float(num_correct/len(x_test)))    \n",
    "        model.train()\n",
    "        \n",
    "            \n",
    "        "
   ]
  },
  {
   "cell_type": "code",
   "execution_count": 51,
   "id": "d57df0fb",
   "metadata": {},
   "outputs": [
    {
     "name": "stdout",
     "output_type": "stream",
     "text": [
      "Accuracy:  0.6\n"
     ]
    }
   ],
   "source": [
    "accuracy(x_test,y_test,model)"
   ]
  },
  {
   "cell_type": "code",
   "execution_count": null,
   "id": "e08e2153",
   "metadata": {},
   "outputs": [],
   "source": []
  }
 ],
 "metadata": {
  "kernelspec": {
   "display_name": "Python 3 (ipykernel)",
   "language": "python",
   "name": "python3"
  },
  "language_info": {
   "codemirror_mode": {
    "name": "ipython",
    "version": 3
   },
   "file_extension": ".py",
   "mimetype": "text/x-python",
   "name": "python",
   "nbconvert_exporter": "python",
   "pygments_lexer": "ipython3",
   "version": "3.9.12"
  }
 },
 "nbformat": 4,
 "nbformat_minor": 5
}
